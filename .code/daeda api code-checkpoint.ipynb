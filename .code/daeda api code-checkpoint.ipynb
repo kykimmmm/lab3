{
 "cells": [
  {
   "cell_type": "code",
   "execution_count": 5,
   "id": "779d2c63",
   "metadata": {},
   "outputs": [
    {
     "name": "stdout",
     "output_type": "stream",
     "text": [
      "b'<?xml version=\"1.0\" encoding=\"UTF-8\"?>\\r\\n<response>\\r\\n  <header>\\r\\n    <resultCode>00</resultCode>\\r\\n    <resultMsg>NORMAL SERVICE.</resultMsg>\\r\\n  </header>\\r\\n  <body>\\r\\n    <item>\\r\\n      <name>NJ\\xed\\x83\\x80\\xec\\x9b\\x8c \\xec\\xa3\\xbc\\xec\\xb0\\xa8\\xec\\x9e\\xa5</name>\\r\\n      <lat>36.35195389</lat>\\r\\n      <lon>127.37948831</lon>\\r\\n      <address>\\xeb\\x8c\\x80\\xec\\xa0\\x84\\xec\\x84\\x9c\\xea\\xb5\\xac\\xeb\\x8c\\x80\\xeb\\x8d\\x95\\xeb\\x8c\\x80\\xeb\\xa1\\x9c216</address>\\r\\n      <tel>010-1234-5678</tel>\\r\\n      <totalQty>229</totalQty>\\r\\n      <resQty>132</resQty>\\r\\n      <type>\\xec\\x9c\\xa0\\xeb\\xa3\\x8c</type>\\r\\n      <baseTime>10</baseTime>\\r\\n      <baseRate>1500</baseRate>\\r\\n      <addTime>30</addTime>\\r\\n      <addRate>1500</addRate>\\r\\n      <extraBaseTime>0</extraBaseTime>\\r\\n      <extraAddTime>0</extraAddTime>\\r\\n      <extraAddRate>0</extraAddRate>\\r\\n      <weekdayOpenTime>00:00</weekdayOpenTime>\\r\\n      <weekdayCloseTime>24:00</weekdayCloseTime>\\r\\n      <operDay>\\xed\\x8f\\x89\\xec\\x9d\\xbc</operDay>\\r\\n    </item>\\r\\n    <numOfRows>1</numOfRows>\\r\\n    <pageNo>1</pageNo>\\r\\n    <totalCount>475</totalCount>\\r\\n  </body>\\r\\n</response>\\r\\n\\r\\n\\r\\n\\r\\n\\r\\n\\r\\n\\r\\n\\r\\n\\r\\n\\r\\n\\r\\n\\r\\n\\r\\n\\r\\n\\r\\n \\r\\n\\r\\n\\r\\n\\r\\n\\r\\n'\n"
     ]
    }
   ],
   "source": [
    "import requests\n",
    "\n",
    "url = 'http://apis.data.go.kr/6300000/pis/parkinglotIF'\n",
    "params ={'serviceKey' : 'oet7tnepMToMGuzL67UJNP0eqhzGEv678eGS6XBAC7YKSoI/hvBJ/4brGZK33mlTqHMAyqORI/DdL67BwYM/4g==', 'numOfRows' : '1', 'pageNo' : '1' }\n",
    "\n",
    "response = requests.get(url, params=params)\n",
    "print(response.content)"
   ]
  },
  {
   "cell_type": "code",
   "execution_count": null,
   "id": "45e3c712",
   "metadata": {},
   "outputs": [],
   "source": []
  }
 ],
 "metadata": {
  "kernelspec": {
   "display_name": "Python 3",
   "language": "python",
   "name": "python3"
  },
  "language_info": {
   "codemirror_mode": {
    "name": "ipython",
    "version": 3
   },
   "file_extension": ".py",
   "mimetype": "text/x-python",
   "name": "python",
   "nbconvert_exporter": "python",
   "pygments_lexer": "ipython3",
   "version": "3.8.8"
  }
 },
 "nbformat": 4,
 "nbformat_minor": 5
}
